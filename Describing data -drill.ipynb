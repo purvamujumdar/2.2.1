{
 "cells": [
  {
   "cell_type": "markdown",
   "metadata": {},
   "source": [
    "## 3.1.5"
   ]
  },
  {
   "cell_type": "markdown",
   "metadata": {},
   "source": [
    "## Drill - Describing Data "
   ]
  },
  {
   "cell_type": "markdown",
   "metadata": {},
   "source": [
    "__Ans 1 - The code below is used to calculate mean, median, mode, variance, standard deviation and standard error for the Brady Bunch.__"
   ]
  },
  {
   "cell_type": "code",
   "execution_count": 8,
   "metadata": {},
   "outputs": [
    {
     "name": "stdout",
     "output_type": "stream",
     "text": [
      "The mean for Brady Bunch age is 9.857142857142858\n",
      "The median for Brady Bunch age is 10.0\n",
      "The mode for Brady Bunch age is 8\n",
      "The variance for Brady Bunch age is 6.408163265306122\n",
      "The standard deviation for Brady Bunch age is 2.734262327610589\n",
      "The standard error for Brady Bunch is 1.0334540197243192\n"
     ]
    }
   ],
   "source": [
    "import numpy as np\n",
    "import pandas as pd\n",
    "import statistics\n",
    "df = pd.DataFrame()\n",
    "df['age'] = [14,12,11,10,8,6,8]\n",
    "print(\"The mean for Brady Bunch age is \" + str(np.mean(df['age'])))\n",
    "print(\"The median for Brady Bunch age is \" + str(np.median(df['age'])))\n",
    "print(\"The mode for Brady Bunch age is \" + str(statistics.mode(df['age'])))\n",
    "print(\"The variance for Brady Bunch age is \" + str(np.var(df['age'])))\n",
    "print(\"The standard deviation for Brady Bunch age is \" + str(np.std(df['age'],ddof = 1)))\n",
    "print(\"The standard error for Brady Bunch is \" + str(np.std(df['age'] ,ddof=1) / np.sqrt(len(df['age']))))"
   ]
  },
  {
   "cell_type": "markdown",
   "metadata": {},
   "source": [
    "__Ans 2 - Since there are no extreme values, mean can selected as a measure of central tendency and estimate of variance will be variance__"
   ]
  },
  {
   "cell_type": "markdown",
   "metadata": {},
   "source": [
    "__Ans 3 - The code below is used to calculate mean, median, mode, variance, standard deviation and standard error for the Brady Bunch when Cindy's age increases by 1 year.__"
   ]
  },
  {
   "cell_type": "code",
   "execution_count": 10,
   "metadata": {},
   "outputs": [
    {
     "name": "stdout",
     "output_type": "stream",
     "text": [
      "The mean for Brady Bunch age is 10.0\n",
      "The median for Brady Bunch age is 10.0\n",
      "The mode for Brady Bunch age is 8\n",
      "The variance for Brady Bunch age is 5.428571428571429\n",
      "The standard deviation for Brady Bunch age is 2.516611478423583\n",
      "The standard error for Brady Bunch is 0.9511897312113418\n"
     ]
    }
   ],
   "source": [
    "df['age1'] = [14,12,11,10,8,7,8]\n",
    "print(\"The mean for Brady Bunch age is \" + str(np.mean(df['age1'])))\n",
    "print(\"The median for Brady Bunch age is \" + str(np.median(df['age1'])))\n",
    "print(\"The mode for Brady Bunch age is \" + str(statistics.mode(df['age1'])))\n",
    "print(\"The variance for Brady Bunch age is \" + str(np.var(df['age1'])))\n",
    "print(\"The standard deviation for Brady Bunch age is \" + str(np.std(df['age1'],ddof = 1)))\n",
    "print(\"The standard error for Brady Bunch is \" + str(np.std(df['age1'] ,ddof=1) / np.sqrt(len(df['age1']))))"
   ]
  },
  {
   "cell_type": "markdown",
   "metadata": {},
   "source": [
    "__Ans 4 - The code below is used to calculate mean, median, mode, variance, standard deviation and standard error for the Brady Bunch whe Oliver is replaced by Jessica.__"
   ]
  },
  {
   "cell_type": "code",
   "execution_count": 13,
   "metadata": {},
   "outputs": [
    {
     "name": "stdout",
     "output_type": "stream",
     "text": [
      "The mean for Brady Bunch age is 9.0\n",
      "The median for Brady Bunch age is 10.0\n",
      "The variance for Brady Bunch age is 15.428571428571429\n",
      "The standard deviation for Brady Bunch age is 4.242640687119285\n",
      "The standard error for Brady Bunch is 1.6035674514745462\n"
     ]
    }
   ],
   "source": [
    "df['age2'] = [14,12,11,10,8,7,1]\n",
    "print(\"The mean for Brady Bunch age is \" + str(np.mean(df['age2'])))\n",
    "print(\"The median for Brady Bunch age is \" + str(np.median(df['age2'])))\n",
    "\n",
    "print(\"The variance for Brady Bunch age is \" + str(np.var(df['age2'])))\n",
    "print(\"The standard deviation for Brady Bunch age is \" + str(np.std(df['age2'],ddof = 1)))\n",
    "print(\"The standard error for Brady Bunch is \" + str(np.std(df['age2'] ,ddof=1) / np.sqrt(len(df['age2']))))"
   ]
  },
  {
   "cell_type": "markdown",
   "metadata": {},
   "source": [
    "__Ans 5 - The following code calculates percentage of adult Americans on 50th anniversary of Brady Bunch.\n",
    "It is logical to skip the percentage of fans according to SciPhi Phanatic while calculating percentage of adult Americans who would be Brady Bunch fans on the 50th anniversary of the show taking into consideration the show type of Brady Bunch.  __"
   ]
  },
  {
   "cell_type": "code",
   "execution_count": 18,
   "metadata": {},
   "outputs": [
    {
     "name": "stdout",
     "output_type": "stream",
     "text": [
      "Percent of adult American who are fan of Brady Bunch on 50th anniversary are: 20.0\n"
     ]
    }
   ],
   "source": [
    "per_fan = [20, 23, 17]\n",
    "print(\"Percent of adult American who are fan of Brady Bunch on 50th anniversary are: \" + str(np.mean(per_fan)))"
   ]
  }
 ],
 "metadata": {
  "kernelspec": {
   "display_name": "Python 3",
   "language": "python",
   "name": "python3"
  },
  "language_info": {
   "codemirror_mode": {
    "name": "ipython",
    "version": 3
   },
   "file_extension": ".py",
   "mimetype": "text/x-python",
   "name": "python",
   "nbconvert_exporter": "python",
   "pygments_lexer": "ipython3",
   "version": "3.7.0"
  }
 },
 "nbformat": 4,
 "nbformat_minor": 2
}
